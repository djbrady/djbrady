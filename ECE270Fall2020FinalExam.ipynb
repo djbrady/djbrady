{
  "nbformat": 4,
  "nbformat_minor": 0,
  "metadata": {
    "colab": {
      "name": "ECE270Fall2020FinalExam.ipynb",
      "provenance": [],
      "collapsed_sections": [
        "j1KHyXRNyt_g"
      ],
      "authorship_tag": "ABX9TyNX2DWwG/vYVclwmHHaikrx",
      "include_colab_link": true
    },
    "kernelspec": {
      "name": "python3",
      "display_name": "Python 3"
    }
  },
  "cells": [
    {
      "cell_type": "markdown",
      "metadata": {
        "id": "view-in-github",
        "colab_type": "text"
      },
      "source": [
        "<a href=\"https://colab.research.google.com/github/djbrady/ece270/blob/master/ECE270Fall2020FinalExam.ipynb\" target=\"_parent\"><img src=\"https://colab.research.google.com/assets/colab-badge.svg\" alt=\"Open In Colab\"/></a>"
      ]
    },
    {
      "cell_type": "markdown",
      "metadata": {
        "id": "y5mHmBShyaHa"
      },
      "source": [
        "# ECE 270 Fields and Waves\n",
        "# Fall  2020\n",
        "# Final Exam Solution\n",
        "## David Brady"
      ]
    },
    {
      "cell_type": "markdown",
      "metadata": {
        "id": "j1KHyXRNyt_g"
      },
      "source": [
        "## Initialization"
      ]
    },
    {
      "cell_type": "code",
      "metadata": {
        "id": "1A4WlJatWdwN"
      },
      "source": [
        "import numpy as np\n",
        "import matplotlib as mpl\n",
        "import matplotlib.pyplot as plt\n",
        "%matplotlib inline\n",
        "plt.rcParams['figure.figsize'] = [20, 10]\n"
      ],
      "execution_count": 18,
      "outputs": []
    },
    {
      "cell_type": "markdown",
      "metadata": {
        "id": "QW0NQEZ2y0VO"
      },
      "source": [
        "# Problem 1."
      ]
    },
    {
      "cell_type": "markdown",
      "metadata": {
        "id": "x3RWJsY7Thb_"
      },
      "source": [
        "Problem 1. Transmission line analysis. A generator with phasor voltage Vg=15 V and internal resistance Zg=75 ohms is connected to a load with impedance Zg=75+j75 ohms through a lossless line with characteristic impedance 75 ohms of length l=20.15 wavelengts Please calculate\n",
        "\n",
        "(a)\tthe reflection coefficient at the load\n",
        "(b)\tthe standing wave ratio on the line, \n",
        "(c)\tthe input impedance to the line. \n",
        "\n",
        "\n"
      ]
    },
    {
      "cell_type": "code",
      "metadata": {
        "id": "hnwQZ-eCDPud",
        "colab": {
          "base_uri": "https://localhost:8080/"
        },
        "outputId": "47976eb2-0c3b-4a67-b5c3-faaaae8489a8"
      },
      "source": [
        "gamma =(75+ 1j*75- 75)/(75+ 1j*75+ 75)\n",
        "print(gamma)\n",
        "print(np.abs(gamma))\n",
        "print(np.angle(gamma))\n",
        "print(180*np.angle(gamma)/np.pi)"
      ],
      "execution_count": null,
      "outputs": [
        {
          "output_type": "stream",
          "text": [
            "(0.2+0.4j)\n",
            "0.4472135954999579\n",
            "1.1071487177940904\n",
            "63.43494882292201\n"
          ],
          "name": "stdout"
        }
      ]
    },
    {
      "cell_type": "code",
      "metadata": {
        "id": "Iu05emNfJ37K",
        "colab": {
          "base_uri": "https://localhost:8080/"
        },
        "outputId": "2d6a465b-027d-4977-aeef-aefa8210db6f"
      },
      "source": [
        "swr=(1+np.abs(gamma))/(1-np.abs(gamma))\n",
        "print(swr)"
      ],
      "execution_count": null,
      "outputs": [
        {
          "output_type": "stream",
          "text": [
            "2.6180339887498945\n"
          ],
          "name": "stdout"
        }
      ]
    },
    {
      "cell_type": "code",
      "metadata": {
        "colab": {
          "base_uri": "https://localhost:8080/"
        },
        "id": "f54nznMM5Tpg",
        "outputId": "043893b9-450a-4713-dffc-8d58746bb608"
      },
      "source": [
        "gammaIn=gamma*np.exp(-1j*4*np.pi*20.15)\n",
        "zin=75*(1+gammaIn)/(1-gammaIn)\n",
        "print(zin)\n",
        "print(np.abs(zin))"
      ],
      "execution_count": null,
      "outputs": [
        {
          "output_type": "stream",
          "text": [
            "(106.61708551145982-83.64592827580147j)\n",
            "135.51326222948978\n"
          ],
          "name": "stdout"
        }
      ]
    },
    {
      "cell_type": "markdown",
      "metadata": {
        "id": "-NE1NHfa-S2I"
      },
      "source": [
        "# Problem 2"
      ]
    },
    {
      "cell_type": "markdown",
      "metadata": {
        "id": "lUTlc9y36blc"
      },
      "source": [
        "Problem 2. Transmission line power. A generator with phasor voltage Vg=15 V and internal resistance Zg=75 is connected to a load with impedance Zg=75+j75through a lossless line with characteristic impedance 75 of length l=20.15  Please calculate\n",
        "\n",
        "(a)\tthe time average power delivered to the load \n",
        "\n",
        "Now consider the same system after a quarter wave impedance matching segment has been added between the load and the generator. Please calculate \n",
        "\n",
        "(b)\tthe time average power delivered to the load after impedance matching\n"
      ]
    },
    {
      "cell_type": "code",
      "metadata": {
        "colab": {
          "base_uri": "https://localhost:8080/"
        },
        "id": "hjZKCtuZ6g95",
        "outputId": "18caa56f-1d9c-450e-f196-116d3285ae2f"
      },
      "source": [
        "pav= 0.5*(np.abs((15/(75+zin)))**2)*np.real(zin)\n",
        "print(pav)"
      ],
      "execution_count": null,
      "outputs": [
        {
          "output_type": "stream",
          "text": [
            "0.29999999999999993\n"
          ],
          "name": "stdout"
        }
      ]
    },
    {
      "cell_type": "code",
      "metadata": {
        "colab": {
          "base_uri": "https://localhost:8080/"
        },
        "id": "WXoP8rNC7Ecp",
        "outputId": "a53f10c1-4bc8-4b5e-85f8-f4246ad90df7"
      },
      "source": [
        "pmatch=0.5*(np.abs((15/(75+75)))**2)*np.real(75)\n",
        "print(pmatch)"
      ],
      "execution_count": null,
      "outputs": [
        {
          "output_type": "stream",
          "text": [
            "0.37500000000000006\n"
          ],
          "name": "stdout"
        }
      ]
    },
    {
      "cell_type": "markdown",
      "metadata": {
        "id": "DSb7b_VW-ZZr"
      },
      "source": [
        "# Problem 3"
      ]
    },
    {
      "cell_type": "markdown",
      "metadata": {
        "id": "kJbBkPji7aFo"
      },
      "source": [
        "Problem 3. Properties of plane waves. The electric field phasor of a uniform plane wave is given by $E=i_x 10e^{j\\beta z} $ V/m with $\\beta=10^4$ rad/m. The relative permeability of the medium is 1. The phase velocity of the wave is $1.5 \\times 10^7$ m/s. Find the following:\n",
        "(a)\tthe wavelength\n",
        "(b)\tThe frequency\n",
        "(c)\tThe relative permittivity of the medium and \n",
        "(d)\tThe phasor describing the magnetic field \n"
      ]
    },
    {
      "cell_type": "code",
      "metadata": {
        "colab": {
          "base_uri": "https://localhost:8080/"
        },
        "id": "bKScUgU17UcC",
        "outputId": "c7d7dcb7-c969-4413-e227-2b18eb2e3452"
      },
      "source": [
        "beta=10**4\n",
        "lam=2*np.pi/beta\n",
        "print(\"the wavelength is %1.2e meters\" % lam)"
      ],
      "execution_count": null,
      "outputs": [
        {
          "output_type": "stream",
          "text": [
            "the wavelength is 6.28e-04 meters\n"
          ],
          "name": "stdout"
        }
      ]
    },
    {
      "cell_type": "code",
      "metadata": {
        "colab": {
          "base_uri": "https://localhost:8080/"
        },
        "id": "bO_4E4og75Dk",
        "outputId": "3e99e6f6-bce8-46d1-d34b-1d6505a5f09d"
      },
      "source": [
        "vp=1.5*10**7\n",
        "f=vp/lam\n",
        "print(\"the frequency is %1.2e Hz\" %f)"
      ],
      "execution_count": null,
      "outputs": [
        {
          "output_type": "stream",
          "text": [
            "the frequency is 2.39e+10 Hz\n"
          ],
          "name": "stdout"
        }
      ]
    },
    {
      "cell_type": "code",
      "metadata": {
        "colab": {
          "base_uri": "https://localhost:8080/"
        },
        "id": "ZDWVFer78HX0",
        "outputId": "ca2523ee-17b8-43f2-b3e5-5429904cd80b"
      },
      "source": [
        "epsilon=(3*10**8/(1.5*10**7))**2\n",
        "print(epsilon)"
      ],
      "execution_count": null,
      "outputs": [
        {
          "output_type": "stream",
          "text": [
            "400.0\n"
          ],
          "name": "stdout"
        }
      ]
    },
    {
      "cell_type": "markdown",
      "metadata": {
        "id": "oEkoCQ4S8aLD"
      },
      "source": [
        "$\\nabla \\times E=-j\\omega \\mu H$\n",
        "$$H=\\frac{j}{\\omega \\mu}\\frac{\\partial E_x}{\\partial z} i_y$$\n",
        "$$H=-10\\frac{\\beta}{\\omega \\mu}e^{j\\beta z} i_y$$\n",
        "$H=\\frac{10}{6\\pi}e^{j\\beta z} i_y$ A/m\n",
        "$H=.53 e^{j\\beta z} i_y$ A/m"
      ]
    },
    {
      "cell_type": "code",
      "metadata": {
        "colab": {
          "base_uri": "https://localhost:8080/"
        },
        "id": "ZyzWn50c8WfX",
        "outputId": "a17337dd-605d-4b43-c751-aeb8c7d3a222"
      },
      "source": [
        "10./(6.*np.pi)"
      ],
      "execution_count": null,
      "outputs": [
        {
          "output_type": "execute_result",
          "data": {
            "text/plain": [
              "0.5305164769729844"
            ]
          },
          "metadata": {
            "tags": []
          },
          "execution_count": 22
        }
      ]
    },
    {
      "cell_type": "markdown",
      "metadata": {
        "id": "jwyRiU3o-c3P"
      },
      "source": [
        "# Problem 4"
      ]
    },
    {
      "cell_type": "markdown",
      "metadata": {
        "id": "LycP7siZ-fUu"
      },
      "source": [
        "Problem 4. Conductors and dielectrics. Based on wave attenuation and reflection measurements conducted at 10 MHz, it was determined that the intrinsic impedance of a certain (μ_r=1) nonmagnetic medium is 52∠45◦ (Ω) and the skin depth is     10 m. Determine the following: \n",
        "(a) The conductivity of the material. \n",
        "(b) The wavelength in the medium. \n",
        "(c) The phase velocity.\n",
        "\n",
        "\n",
        "Comment: Sorry about this one. Should have been skin depth .1 m, which would have made alpha 10 and made the phase velocity <c.... Full credit was given for most answers.\n"
      ]
    },
    {
      "cell_type": "code",
      "metadata": {
        "colab": {
          "base_uri": "https://localhost:8080/"
        },
        "id": "Im2mfTtc-WlP",
        "outputId": "f85f4cce-05f6-4fd7-e7ab-3bab7e1e0413"
      },
      "source": [
        "eta=52*np.exp(1j*np.pi/4)\n",
        "alpha =1/10. \n",
        "sigma = (2.*np.pi*10**7 * 4.*np.pi*10**(-7))/np.abs(eta)**2\n",
        "print(\"the conductivity is %1.2e S/m\" % sigma)"
      ],
      "execution_count": 19,
      "outputs": [
        {
          "output_type": "stream",
          "text": [
            "the conductivity is 2.92e-02 S/m\n"
          ],
          "name": "stdout"
        }
      ]
    },
    {
      "cell_type": "code",
      "metadata": {
        "colab": {
          "base_uri": "https://localhost:8080/"
        },
        "id": "dfh4w9naAMhR",
        "outputId": "904c5278-b54e-4097-dc92-eca8e9ad7d41"
      },
      "source": [
        "lam=2*np.pi/alpha\n",
        "print(lam)"
      ],
      "execution_count": null,
      "outputs": [
        {
          "output_type": "stream",
          "text": [
            "62.83185307179586\n"
          ],
          "name": "stdout"
        }
      ]
    },
    {
      "cell_type": "code",
      "metadata": {
        "colab": {
          "base_uri": "https://localhost:8080/"
        },
        "id": "6hMb_1o5AQ25",
        "outputId": "f47b753d-d6f0-441f-a078-29fa64b47af9"
      },
      "source": [
        "vp=lam*(10**7)\n",
        "print(\"%4.3e\" %vp)"
      ],
      "execution_count": null,
      "outputs": [
        {
          "output_type": "stream",
          "text": [
            "6.283e+08\n"
          ],
          "name": "stdout"
        }
      ]
    },
    {
      "cell_type": "markdown",
      "metadata": {
        "id": "bbXaBqYy-nKW"
      },
      "source": [
        ""
      ]
    },
    {
      "cell_type": "markdown",
      "metadata": {
        "id": "08ihaLwG-nVS"
      },
      "source": [
        "# Problem 5"
      ]
    },
    {
      "cell_type": "markdown",
      "metadata": {
        "id": "FJn8KZFcB70x"
      },
      "source": [
        "as illustrated above a circularly polarized plane wave is incident on the interface between air (ϵ_r=1) and water (ϵ_r=1.8)  with angle of incidence θ_( i)= 30 degrees\n",
        "\n",
        "\tWhat is the value of the angle of transmission?\n",
        "\t What are the reflection and transmission coefficients for the perpendicularly and parallel  polarized components of the incident wave?\n",
        "\tIs the transmitted wave circularly, elliptically or linearly polarized?\n",
        "\tIs the reflected wave circularly, elliptically or linearly polarized?\n",
        "\tWhat fraction of the incident power is transmitted into the water?\n",
        " \n"
      ]
    },
    {
      "cell_type": "code",
      "metadata": {
        "colab": {
          "base_uri": "https://localhost:8080/"
        },
        "id": "uqT6w55TArMS",
        "outputId": "39e1b947-e43e-49b2-9b50-ebc957d17d89"
      },
      "source": [
        "thetai=np.pi/6\n",
        "thetat=np.arcsin(np.sin(thetai)/np.sqrt(1.8))\n",
        "print(180*thetat/np.pi)"
      ],
      "execution_count": null,
      "outputs": [
        {
          "output_type": "stream",
          "text": [
            "21.880871346339898\n"
          ],
          "name": "stdout"
        }
      ]
    },
    {
      "cell_type": "code",
      "metadata": {
        "colab": {
          "base_uri": "https://localhost:8080/"
        },
        "id": "ENdX4ZqNCXkq",
        "outputId": "15021fd5-7021-4214-ee08-9e1a7c730325"
      },
      "source": [
        "gammaPerp=(np.cos(thetai)-np.sqrt(1.8)*np.cos(thetat))/(np.cos(thetai)+np.sqrt(1.8)*np.cos(thetat))\n",
        "tauPerp=1+gammaPerp\n",
        "print(gammaPerp,tauPerp)"
      ],
      "execution_count": null,
      "outputs": [
        {
          "output_type": "stream",
          "text": [
            "-0.17951766839402183 0.8204823316059782\n"
          ],
          "name": "stdout"
        }
      ]
    },
    {
      "cell_type": "code",
      "metadata": {
        "colab": {
          "base_uri": "https://localhost:8080/"
        },
        "id": "IClF9cwjC-E_",
        "outputId": "c15706f9-b4bb-4229-f4c1-55bb1c3f3960"
      },
      "source": [
        "gammaPara=(np.cos(thetat)-np.sqrt(1.8)*np.cos(thetai))/(np.cos(thetat)+np.sqrt(1.8)*np.cos(thetai))\n",
        "tauPara=(2.*np.cos(thetai))/(np.cos(thetat)+np.sqrt(1.8)*np.cos(thetai))\n",
        "print(gammaPara,tauPara)"
      ],
      "execution_count": null,
      "outputs": [
        {
          "output_type": "stream",
          "text": [
            "-0.11193800282658131 0.8287896536951963\n"
          ],
          "name": "stdout"
        }
      ]
    },
    {
      "cell_type": "markdown",
      "metadata": {
        "id": "wBSa05VRxwra"
      },
      "source": [
        "transmitted and reflected waves are ellyptically polarized"
      ]
    },
    {
      "cell_type": "code",
      "metadata": {
        "colab": {
          "base_uri": "https://localhost:8080/"
        },
        "id": "q4lo9GkIDhup",
        "outputId": "8f7fbf22-e352-45e4-a183-bf7dea05356c"
      },
      "source": [
        "transP=((1-np.abs(gammaPerp)**2)+(1-np.abs(gammaPara)**2))/2.\n",
        "print(transP)"
      ],
      "execution_count": null,
      "outputs": [
        {
          "output_type": "stream",
          "text": [
            "0.9776216451287851\n"
          ],
          "name": "stdout"
        }
      ]
    },
    {
      "cell_type": "markdown",
      "metadata": {
        "id": "HJABtLA5-rL6"
      },
      "source": [
        "# Problem 6"
      ]
    },
    {
      "cell_type": "markdown",
      "metadata": {
        "id": "10gh7xGY7i1y"
      },
      "source": [
        "Problem 6. Interfaces and impedance matching. Consider a plane wave normally incident from air on glass. The glass is a nonmagnetic (r = 1) dielectric with relative permittivity r = 2.7\n",
        "\n",
        "(a)\tCalculate the fraction of the power carried by the wave that is reflected and the fraction that is transmitted into the glass. \n",
        "(b)\tIf you put a ¼ wave antireflection coating on the glass to suppress reflection, what should the relative permittivity of the coating be?\n"
      ]
    },
    {
      "cell_type": "code",
      "metadata": {
        "colab": {
          "base_uri": "https://localhost:8080/"
        },
        "id": "KjgBHO6w7liN",
        "outputId": "4eb30dd0-e6db-4a2a-88e6-d22357314e07"
      },
      "source": [
        "gamma= (1-np.sqrt(2.7))/(1+np.sqrt(2.7))\n",
        "R=np.abs(gamma)**2\n",
        "print(R, 1-R)\n"
      ],
      "execution_count": null,
      "outputs": [
        {
          "output_type": "stream",
          "text": [
            "0.059210535214749 0.940789464785251\n"
          ],
          "name": "stdout"
        }
      ]
    },
    {
      "cell_type": "code",
      "metadata": {
        "colab": {
          "base_uri": "https://localhost:8080/"
        },
        "id": "Vsd5Z-Uv8EMo",
        "outputId": "4e94821b-4a81-4c84-8574-bb2f63607433"
      },
      "source": [
        "epsilonMatch=np.sqrt(2.7)\n",
        "print(epsilonMatch)"
      ],
      "execution_count": null,
      "outputs": [
        {
          "output_type": "stream",
          "text": [
            "1.6431676725154984\n"
          ],
          "name": "stdout"
        }
      ]
    },
    {
      "cell_type": "markdown",
      "metadata": {
        "id": "wEPvdSOj-uS6"
      },
      "source": [
        "# Problem 7"
      ]
    },
    {
      "cell_type": "markdown",
      "metadata": {
        "id": "Hfgt6kS18pi_"
      },
      "source": [
        "Problem 7. Antenna power. A 10 cm long dipole antenna is excited by a sinusoidally varying current with amplitude Io 2 A. Determine the time average power radiated by the dipole if the oscillating frequency is:\n",
        "(a) 1 MHz and\n",
        "(b) 1.5 GHz \n"
      ]
    },
    {
      "cell_type": "code",
      "metadata": {
        "id": "NGwkkz3G8q0L",
        "colab": {
          "base_uri": "https://localhost:8080/"
        },
        "outputId": "b4e89257-bd84-4b91-f0e4-a14131ec8a43"
      },
      "source": [
        "#at 1 MHz lambda is 300 meters, the antenna is a Hertzian diople. \n",
        "rrad=80*(np.pi**2)*((0.1/300.)**2)\n",
        "Io=2\n",
        "power=0.5*rrad*Io**2\n",
        "print(\"the power is %1.2e\" % power)"
      ],
      "execution_count": null,
      "outputs": [
        {
          "output_type": "stream",
          "text": [
            "the power is 1.75e-04\n"
          ],
          "name": "stdout"
        }
      ]
    },
    {
      "cell_type": "code",
      "metadata": {
        "colab": {
          "base_uri": "https://localhost:8080/"
        },
        "id": "hqJOH7m_46Iq",
        "outputId": "c3ab6ab7-b157-4d46-e378-66ffed2195a0"
      },
      "source": [
        "#at 1.5 GHz lambda is 20 cm, the antenna is a half wave diople. \n",
        "rrad=73\n",
        "Io=2\n",
        "power=0.5*rrad*Io**2\n",
        "print(power)"
      ],
      "execution_count": null,
      "outputs": [
        {
          "output_type": "stream",
          "text": [
            "146.0\n"
          ],
          "name": "stdout"
        }
      ]
    },
    {
      "cell_type": "markdown",
      "metadata": {
        "id": "t8YNpQwp-xVL"
      },
      "source": [
        "# Problem 8"
      ]
    },
    {
      "cell_type": "markdown",
      "metadata": {
        "id": "HnjuddS6Jai3"
      },
      "source": [
        "Problem 8. Acoustic Waves. Consider an acoustic wave normally incident from air on a concrete wall. The bulk modulus of the concrete is 15 gigapascal. The density of the concreate is 2,400 kg/m2. \n",
        "\n",
        "(a)\tWhat is the specific impedance of air?\n",
        "(b)\tWhat is the specific impedance of the concrete?\n",
        "(c)\tWhat is reflection coefficient for a normally incident wave in air striking the first concrete surface?\n",
        "(d)\tSuppose that the wall is 12 cm thick. At what frequencies does 100% transmission occur?\n"
      ]
    },
    {
      "cell_type": "markdown",
      "metadata": {
        "id": "upWS6oTe-052"
      },
      "source": [
        "We saw in lecture that that the specific impedance of air is 412 $\\frac{Kg}{m^2 s}$ Notes from the same lecture and online code shows \n",
        "$$c_{concrete}=\\sqrt{\\beta\\over \\rho}=\\sqrt{1.5 \\times 10^{10}\\over 2.4\\times 10^3} = 2500\\ \\rm{m\\over s} $$\n",
        "\n",
        "$$\\eta_{concrete}=\\sqrt{\\rho\\beta}=\\sqrt{1.5 \\times 10^{10} * 2400} = 6\\times 10^{6}\\ \\rm{kg\\over m^2 s} $$"
      ]
    },
    {
      "cell_type": "code",
      "metadata": {
        "id": "MPF8uzn3D4XJ",
        "colab": {
          "base_uri": "https://localhost:8080/"
        },
        "outputId": "c914af0f-3743-47ae-eade-b9ac1a94659d"
      },
      "source": [
        "gamma=(6000000.-412)/(6000000.+412)\n",
        "print(gamma)"
      ],
      "execution_count": 20,
      "outputs": [
        {
          "output_type": "stream",
          "text": [
            "0.9998626760962414\n"
          ],
          "name": "stdout"
        }
      ]
    },
    {
      "cell_type": "code",
      "metadata": {
        "colab": {
          "base_uri": "https://localhost:8080/"
        },
        "id": "J5wIF7T_A09f",
        "outputId": "7405843d-f47b-4065-f657-71004b376f34"
      },
      "source": [
        "2500./.24"
      ],
      "execution_count": 21,
      "outputs": [
        {
          "output_type": "execute_result",
          "data": {
            "text/plain": [
              "10416.666666666668"
            ]
          },
          "metadata": {
            "tags": []
          },
          "execution_count": 21
        }
      ]
    },
    {
      "cell_type": "markdown",
      "metadata": {
        "id": "g225DWH0_yD9"
      },
      "source": [
        "100% transmission occurs when the barrier is an integral number of half wavelengths thick. Noting that\n",
        "$\\lambda f = c$, we set $n \\lambda/2 = 12 cm/2$, $\\lambda = .24/ n$ meaning \n",
        "$f= n*c/.24$\n",
        "$$f=n\\times 10,416\\ \\ \\rm{Hz}$$\n",
        "for integer $n$\n"
      ]
    },
    {
      "cell_type": "markdown",
      "metadata": {
        "id": "emjjs6cwBE9Q"
      },
      "source": [
        "# Problem 9"
      ]
    },
    {
      "cell_type": "markdown",
      "metadata": {
        "id": "J4B_qcsOF78_"
      },
      "source": [
        "Problem 9. Tunneling. An electron with kinetic energy \n",
        "E =1 keV =   1.6 ×〖10〗^(-16) J collides with a barrier of potential energy 4E and length 1 nanometer. \n",
        "\n",
        "\tWhat is the probability that the electron tunnels through the barrier?\n",
        "\tWhat is the probability that the electron is reflected by the barrier?\n"
      ]
    },
    {
      "cell_type": "markdown",
      "metadata": {
        "id": "YKYVAtXdG__N"
      },
      "source": [
        "# Transmittance of a square barrier\n",
        "According to Tamvakis Eqn. (3.62), the probability of tunneling through a barrier of height $V_o$ extending from $-L$ to $L$ is  \n",
        "$$ \\tau =\\left \\lbrack  1+ {\\sinh^2 \\left ( 2\\beta \\sqrt{1- {E\\over V_o}}\\right )\\over 4 \\left (1 -{E\\over V_o}\\right ){E\\over V_o}}\\right \\rbrack^{-1} $$\n",
        "where \n",
        "$$\n",
        "\\beta = \\sqrt{{2m V_oL^2\\over \\hbar^2}}$$\n",
        "\n",
        "\n",
        "$m=9.1\\times 10^{-31}$ Kg, $V= 2 $ keV. We know\n",
        "$\\hbar = 1.05\\times 10^{-34}$ m$^2$kg/s. $\\frac{E}{V}=0.5$"
      ]
    },
    {
      "cell_type": "code",
      "metadata": {
        "id": "vmPtq1_KGE2v"
      },
      "source": [
        "import scipy.constants as constants\n",
        "m=constants.electron_mass; #kg\n",
        "V= 1.25*1.6*np.power(10.,-19); # joules\n",
        "hbar= constants.hbar;\n",
        "beta=np.sqrt(2.*m*V/(hbar*hbar));\n",
        "def tau(E,L): # E in electron volts, L in Angstroms\n",
        "  t=np.sinh(2.*beta*L*np.power(10.,-10)*np.sqrt(1-E))**2/(4.*E*(1.-E));\n",
        "  t=1./(1.+t);\n",
        "  return t"
      ],
      "execution_count": 38,
      "outputs": []
    },
    {
      "cell_type": "code",
      "metadata": {
        "colab": {
          "base_uri": "https://localhost:8080/"
        },
        "id": "yEKJ5qiNGIS6",
        "outputId": "9f923d6b-bd5a-4a59-f22e-85476b0114aa"
      },
      "source": [
        "tau(1./1.25,3)"
      ],
      "execution_count": 39,
      "outputs": [
        {
          "output_type": "execute_result",
          "data": {
            "text/plain": [
              "0.11538131903278287"
            ]
          },
          "metadata": {
            "tags": []
          },
          "execution_count": 39
        }
      ]
    },
    {
      "cell_type": "code",
      "metadata": {
        "id": "XY0ccLyIGSyC",
        "colab": {
          "base_uri": "https://localhost:8080/"
        },
        "outputId": "9eb6fc1c-1090-4adf-832f-826f1f6e6d55"
      },
      "source": [
        "gamma = 1- tau(1./1.25,3)\n",
        "print(gamma)"
      ],
      "execution_count": 40,
      "outputs": [
        {
          "output_type": "stream",
          "text": [
            "0.8846186809672172\n"
          ],
          "name": "stdout"
        }
      ]
    }
  ]
}